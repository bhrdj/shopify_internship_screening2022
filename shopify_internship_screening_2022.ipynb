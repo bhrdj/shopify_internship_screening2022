{
 "cells": [
  {
   "cell_type": "markdown",
   "id": "f400b081",
   "metadata": {},
   "source": [
    "## 2022 Fall Shopify Internship Challenge\n",
    "Steven Bhardwaj  \n",
    "steven@bhrdwj.net"
   ]
  },
  {
   "cell_type": "markdown",
   "id": "52d4b6f0",
   "metadata": {},
   "source": [
    "## TOC\n",
    "- **Question 1**\n",
    "    - [Initial_analysis](#Initial_analysis)\n",
    "        - [Naive_AOV](#Naive_AOV)\n",
    "        - [Is_this_too_high?](#Is_this_too_high)\n",
    "        - [EDA_to_explore_data](#EDA_to_explore_data)\n",
    "    - [Better_way_to_evaluate_data](#Better_way_to_evaluate_data)\n",
    "        - [What_metric_would_you_report?](#What_metric_would_you_report)\n",
    "        - [Whats_its_value?](#Whats_its_value)\n",
    "<br><br>\n",
    "- **Question 2**\n",
    "    - [How_many_total_orders_shipped?](#How_many_total_orders_shipped)\n",
    "    - [Name_of_employee_with_the_most_orders?](#Name_of_employee_with_the_most_orders)\n",
    "    - [What_product_ordered_most_by_customers_in_Germany?](#What_product_ordered_most_by_customers_in_Germany)"
   ]
  },
  {
   "cell_type": "markdown",
   "id": "3a1d8bad",
   "metadata": {},
   "source": [
    "Link to [challenge](https://docs.google.com/document/d/1JxYz-VZHIctOQcw1PIUvCuYouxDWnew5yzBhluVwbso/edit#heading=h.5j27tl9uwcuc)"
   ]
  },
  {
   "cell_type": "markdown",
   "id": "371e46aa",
   "metadata": {},
   "source": [
    "<hr><hr><hr>"
   ]
  },
  {
   "cell_type": "markdown",
   "id": "86d24be8",
   "metadata": {},
   "source": [
    "# Question 1"
   ]
  },
  {
   "cell_type": "markdown",
   "id": "91c3fc96",
   "metadata": {},
   "source": [
    "## Q1_Setup"
   ]
  },
  {
   "cell_type": "markdown",
   "id": "5e9310dd",
   "metadata": {},
   "source": [
    "Link to q1\n",
    "100 sneaker shops, and each of these shops sells only one model of shoe.\n",
    "- Analyze average order value (AOV)\n",
    "    - Use orders data over a 30 day window:\n",
    "        - Naively calculate an AOV of \\$3145.13\n",
    "        - Isn't this too high?\n",
    "- What could be going wrong with our calculation? \n",
    "    - Think about a better way to evaluate this data.\n",
    "        - What metric would you report for this dataset?\n",
    "        - What is its value?"
   ]
  },
  {
   "cell_type": "code",
   "execution_count": 12,
   "id": "0b769573",
   "metadata": {},
   "outputs": [],
   "source": [
    "import pandas as pd, matplotlib.pyplot as plt"
   ]
  },
  {
   "cell_type": "code",
   "execution_count": 39,
   "id": "b60c9244",
   "metadata": {},
   "outputs": [],
   "source": [
    "df = pd.read_csv('data_q1.csv')\n",
    "df.set_index('order_id', inplace=True)"
   ]
  },
  {
   "cell_type": "markdown",
   "id": "0cdbff49",
   "metadata": {},
   "source": [
    "## Initial_analysis"
   ]
  },
  {
   "cell_type": "markdown",
   "id": "9e954e9f",
   "metadata": {},
   "source": [
    "### <mark>Naive_AOV</mark>"
   ]
  },
  {
   "cell_type": "code",
   "execution_count": 40,
   "id": "a049485b",
   "metadata": {},
   "outputs": [
    {
     "data": {
      "text/plain": [
       "3145.128"
      ]
     },
     "execution_count": 40,
     "metadata": {},
     "output_type": "execute_result"
    }
   ],
   "source": [
    "df.order_amount.mean()"
   ]
  },
  {
   "cell_type": "markdown",
   "id": "f229ee3e",
   "metadata": {},
   "source": [
    "Thinking about typical shoe purchases on the market, it seems unlikely that many of end-consumers are routinely buying thousands of dollars of shoes at the same time.  "
   ]
  },
  {
   "cell_type": "markdown",
   "id": "13a41862",
   "metadata": {},
   "source": [
    "### <mark>Is_this_too_high</mark>\n",
    "It's too high of a number if we are looking for a measure of central tendency where we care about all the shops equally."
   ]
  },
  {
   "cell_type": "markdown",
   "id": "237a6abe",
   "metadata": {},
   "source": [
    "### EDA_to_explore_data"
   ]
  },
  {
   "cell_type": "code",
   "execution_count": 41,
   "id": "15c4905d",
   "metadata": {
    "code_folding": []
   },
   "outputs": [
    {
     "data": {
      "image/png": "[encoded data removed]",
      "text/plain": [
       "<Figure size 432x288 with 1 Axes>"
      ]
     },
     "metadata": {
      "needs_background": "light"
     },
     "output_type": "display_data"
    }
   ],
   "source": [
    "# EDA\n",
    "fig = plt.figure()\n",
    "ax = fig.gca()\n",
    "df.order_amount.hist(ax=ax, bins=40)\n",
    "ax.set_title('Histogram of order_amounts')\n",
    "ax.set_yscale('log')\n",
    "ax.set_ylabel('# of orders in histogram bin')\n",
    "ax.set_xlabel('$ sale value')\n",
    "plt.show()"
   ]
  },
  {
   "cell_type": "markdown",
   "id": "e1ed37ee",
   "metadata": {},
   "source": [
    "- Interesting that the large purchases are in such a narrow band around $700k.  \n",
    "- Let's look closer."
   ]
  },
  {
   "cell_type": "code",
   "execution_count": 42,
   "id": "4c7e2a45",
   "metadata": {},
   "outputs": [
    {
     "data": {
      "text/html": [
       "<div>\n",
       "<style scoped>\n",
       "    .dataframe tbody tr th:only-of-type {\n",
       "        vertical-align: middle;\n",
       "    }\n",
       "\n",
       "    .dataframe tbody tr th {\n",
       "        vertical-align: top;\n",
       "    }\n",
       "\n",
       "    .dataframe thead th {\n",
       "        text-align: right;\n",
       "    }\n",
       "</style>\n",
       "<table border=\"1\" class=\"dataframe\">\n",
       "  <thead>\n",
       "    <tr style=\"text-align: right;\">\n",
       "      <th></th>\n",
       "      <th>shop_id</th>\n",
       "      <th>user_id</th>\n",
       "      <th>order_amount</th>\n",
       "      <th>total_items</th>\n",
       "      <th>payment_method</th>\n",
       "      <th>created_at</th>\n",
       "    </tr>\n",
       "    <tr>\n",
       "      <th>order_id</th>\n",
       "      <th></th>\n",
       "      <th></th>\n",
       "      <th></th>\n",
       "      <th></th>\n",
       "      <th></th>\n",
       "      <th></th>\n",
       "    </tr>\n",
       "  </thead>\n",
       "  <tbody>\n",
       "    <tr>\n",
       "      <th>521</th>\n",
       "      <td>42</td>\n",
       "      <td>607</td>\n",
       "      <td>704000</td>\n",
       "      <td>2000</td>\n",
       "      <td>credit_card</td>\n",
       "      <td>2017-03-02 4:00:00</td>\n",
       "    </tr>\n",
       "    <tr>\n",
       "      <th>4647</th>\n",
       "      <td>42</td>\n",
       "      <td>607</td>\n",
       "      <td>704000</td>\n",
       "      <td>2000</td>\n",
       "      <td>credit_card</td>\n",
       "      <td>2017-03-02 4:00:00</td>\n",
       "    </tr>\n",
       "    <tr>\n",
       "      <th>61</th>\n",
       "      <td>42</td>\n",
       "      <td>607</td>\n",
       "      <td>704000</td>\n",
       "      <td>2000</td>\n",
       "      <td>credit_card</td>\n",
       "      <td>2017-03-04 4:00:00</td>\n",
       "    </tr>\n",
       "    <tr>\n",
       "      <th>16</th>\n",
       "      <td>42</td>\n",
       "      <td>607</td>\n",
       "      <td>704000</td>\n",
       "      <td>2000</td>\n",
       "      <td>credit_card</td>\n",
       "      <td>2017-03-07 4:00:00</td>\n",
       "    </tr>\n",
       "    <tr>\n",
       "      <th>2298</th>\n",
       "      <td>42</td>\n",
       "      <td>607</td>\n",
       "      <td>704000</td>\n",
       "      <td>2000</td>\n",
       "      <td>credit_card</td>\n",
       "      <td>2017-03-07 4:00:00</td>\n",
       "    </tr>\n",
       "    <tr>\n",
       "      <th>1437</th>\n",
       "      <td>42</td>\n",
       "      <td>607</td>\n",
       "      <td>704000</td>\n",
       "      <td>2000</td>\n",
       "      <td>credit_card</td>\n",
       "      <td>2017-03-11 4:00:00</td>\n",
       "    </tr>\n",
       "    <tr>\n",
       "      <th>2154</th>\n",
       "      <td>42</td>\n",
       "      <td>607</td>\n",
       "      <td>704000</td>\n",
       "      <td>2000</td>\n",
       "      <td>credit_card</td>\n",
       "      <td>2017-03-12 4:00:00</td>\n",
       "    </tr>\n",
       "    <tr>\n",
       "      <th>1363</th>\n",
       "      <td>42</td>\n",
       "      <td>607</td>\n",
       "      <td>704000</td>\n",
       "      <td>2000</td>\n",
       "      <td>credit_card</td>\n",
       "      <td>2017-03-15 4:00:00</td>\n",
       "    </tr>\n",
       "    <tr>\n",
       "      <th>1603</th>\n",
       "      <td>42</td>\n",
       "      <td>607</td>\n",
       "      <td>704000</td>\n",
       "      <td>2000</td>\n",
       "      <td>credit_card</td>\n",
       "      <td>2017-03-17 4:00:00</td>\n",
       "    </tr>\n",
       "    <tr>\n",
       "      <th>1563</th>\n",
       "      <td>42</td>\n",
       "      <td>607</td>\n",
       "      <td>704000</td>\n",
       "      <td>2000</td>\n",
       "      <td>credit_card</td>\n",
       "      <td>2017-03-19 4:00:00</td>\n",
       "    </tr>\n",
       "    <tr>\n",
       "      <th>4869</th>\n",
       "      <td>42</td>\n",
       "      <td>607</td>\n",
       "      <td>704000</td>\n",
       "      <td>2000</td>\n",
       "      <td>credit_card</td>\n",
       "      <td>2017-03-22 4:00:00</td>\n",
       "    </tr>\n",
       "    <tr>\n",
       "      <th>3333</th>\n",
       "      <td>42</td>\n",
       "      <td>607</td>\n",
       "      <td>704000</td>\n",
       "      <td>2000</td>\n",
       "      <td>credit_card</td>\n",
       "      <td>2017-03-24 4:00:00</td>\n",
       "    </tr>\n",
       "    <tr>\n",
       "      <th>1105</th>\n",
       "      <td>42</td>\n",
       "      <td>607</td>\n",
       "      <td>704000</td>\n",
       "      <td>2000</td>\n",
       "      <td>credit_card</td>\n",
       "      <td>2017-03-24 4:00:00</td>\n",
       "    </tr>\n",
       "    <tr>\n",
       "      <th>4883</th>\n",
       "      <td>42</td>\n",
       "      <td>607</td>\n",
       "      <td>704000</td>\n",
       "      <td>2000</td>\n",
       "      <td>credit_card</td>\n",
       "      <td>2017-03-25 4:00:00</td>\n",
       "    </tr>\n",
       "    <tr>\n",
       "      <th>2836</th>\n",
       "      <td>42</td>\n",
       "      <td>607</td>\n",
       "      <td>704000</td>\n",
       "      <td>2000</td>\n",
       "      <td>credit_card</td>\n",
       "      <td>2017-03-28 4:00:00</td>\n",
       "    </tr>\n",
       "    <tr>\n",
       "      <th>2970</th>\n",
       "      <td>42</td>\n",
       "      <td>607</td>\n",
       "      <td>704000</td>\n",
       "      <td>2000</td>\n",
       "      <td>credit_card</td>\n",
       "      <td>2017-03-28 4:00:00</td>\n",
       "    </tr>\n",
       "    <tr>\n",
       "      <th>4057</th>\n",
       "      <td>42</td>\n",
       "      <td>607</td>\n",
       "      <td>704000</td>\n",
       "      <td>2000</td>\n",
       "      <td>credit_card</td>\n",
       "      <td>2017-03-28 4:00:00</td>\n",
       "    </tr>\n",
       "  </tbody>\n",
       "</table>\n",
       "</div>"
      ],
      "text/plain": [
       "          shop_id  user_id  order_amount  total_items payment_method  \\\n",
       "order_id                                                               \n",
       "521            42      607        704000         2000    credit_card   \n",
       "4647           42      607        704000         2000    credit_card   \n",
       "61             42      607        704000         2000    credit_card   \n",
       "16             42      607        704000         2000    credit_card   \n",
       "2298           42      607        704000         2000    credit_card   \n",
       "1437           42      607        704000         2000    credit_card   \n",
       "2154           42      607        704000         2000    credit_card   \n",
       "1363           42      607        704000         2000    credit_card   \n",
       "1603           42      607        704000         2000    credit_card   \n",
       "1563           42      607        704000         2000    credit_card   \n",
       "4869           42      607        704000         2000    credit_card   \n",
       "3333           42      607        704000         2000    credit_card   \n",
       "1105           42      607        704000         2000    credit_card   \n",
       "4883           42      607        704000         2000    credit_card   \n",
       "2836           42      607        704000         2000    credit_card   \n",
       "2970           42      607        704000         2000    credit_card   \n",
       "4057           42      607        704000         2000    credit_card   \n",
       "\n",
       "                  created_at  \n",
       "order_id                      \n",
       "521       2017-03-02 4:00:00  \n",
       "4647      2017-03-02 4:00:00  \n",
       "61        2017-03-04 4:00:00  \n",
       "16        2017-03-07 4:00:00  \n",
       "2298      2017-03-07 4:00:00  \n",
       "1437      2017-03-11 4:00:00  \n",
       "2154      2017-03-12 4:00:00  \n",
       "1363      2017-03-15 4:00:00  \n",
       "1603      2017-03-17 4:00:00  \n",
       "1563      2017-03-19 4:00:00  \n",
       "4869      2017-03-22 4:00:00  \n",
       "3333      2017-03-24 4:00:00  \n",
       "1105      2017-03-24 4:00:00  \n",
       "4883      2017-03-25 4:00:00  \n",
       "2836      2017-03-28 4:00:00  \n",
       "2970      2017-03-28 4:00:00  \n",
       "4057      2017-03-28 4:00:00  "
      ]
     },
     "execution_count": 42,
     "metadata": {},
     "output_type": "execute_result"
    }
   ],
   "source": [
    "df.loc[df.order_amount > 600000].sort_values('created_at')"
   ]
  },
  {
   "cell_type": "markdown",
   "id": "fd466875",
   "metadata": {},
   "source": [
    "Here we can notice that all of these huge orders were:\n",
    "- created by a single user, user_id \"607\"\n",
    "- bought from the same shop, shop_id \"42\"\n",
    "- exact same quantity, 2000 pairs,\n",
    "- bought at the exact same time, 4am *sharp*, at different days over the month\n",
    "- many of the orders were simultaneous."
   ]
  },
  {
   "cell_type": "code",
   "execution_count": 33,
   "id": "9f01c872",
   "metadata": {},
   "outputs": [
    {
     "data": {
      "text/plain": [
       "76.1"
      ]
     },
     "execution_count": 33,
     "metadata": {},
     "output_type": "execute_result"
    }
   ],
   "source": [
    "whale_order_sum = df.loc[df.order_amount > 600000].order_amount.sum()\n",
    "all_orders_sum = df.order_amount.sum()\n",
    "whale_pct_of_orders= round(whale_order_sum / all_orders_sum, 3) * 100 \n",
    "whale_pct_of_orders"
   ]
  },
  {
   "cell_type": "markdown",
   "id": "45f52558",
   "metadata": {},
   "source": [
    "## <mark>Better_way_to_evaluate_data</mark>"
   ]
  },
  {
   "cell_type": "markdown",
   "id": "b869ac24",
   "metadata": {},
   "source": [
    "- If these orders are real, the whale's orders are 76.1% of total order_amount sum.\n",
    "- Let's presume these orders are real.\n",
    "    - But regardless, there's some level of parity in our prioritization of the shops\n",
    "        - so we don't just care about total revenue.\n",
    "- How to look at central tendency of shop order-values without being overwhelmed by the outlier whale?\n",
    "    - If we still want to look at average order value (AOV),\n",
    "        - then we should separate out the whale orders.\n",
    "    - But maybe we should instead look into quantiles, or the median."
   ]
  },
  {
   "cell_type": "markdown",
   "id": "06206866",
   "metadata": {},
   "source": [
    "#### <mark>What_metric_would_you_report</mark>\n",
    "- Maybe instead report **median order value** as a metric. "
   ]
  },
  {
   "cell_type": "code",
   "execution_count": 45,
   "id": "568efbb1",
   "metadata": {},
   "outputs": [
    {
     "data": {
      "text/plain": [
       "284.0"
      ]
     },
     "execution_count": 45,
     "metadata": {},
     "output_type": "execute_result"
    }
   ],
   "source": [
    "df.order_amount.median()"
   ]
  },
  {
   "cell_type": "markdown",
   "id": "e86d9e82",
   "metadata": {},
   "source": [
    "#### <mark>Whats_its_value</mark>\n",
    "- The median order value is \\$284.\n",
    "- But, it's good to be aware of the whale!!"
   ]
  },
  {
   "cell_type": "markdown",
   "id": "eddafa82",
   "metadata": {},
   "source": [
    "<hr><hr><hr>"
   ]
  },
  {
   "cell_type": "markdown",
   "id": "a04b90b9",
   "metadata": {},
   "source": [
    "# Question 2"
   ]
  },
  {
   "cell_type": "markdown",
   "id": "2fae2a7d",
   "metadata": {},
   "source": [
    "Please use queries to answer the following questions. Paste your queries along with your final numerical answers below."
   ]
  },
  {
   "cell_type": "markdown",
   "id": "8ff7cffd",
   "metadata": {},
   "source": [
    "### <mark>How_many_total_orders_shipped</mark>"
   ]
  },
  {
   "cell_type": "markdown",
   "id": "4cd364ef",
   "metadata": {},
   "source": [
    "```SQL\n",
    "select count(*) from orders;\n",
    "```"
   ]
  },
  {
   "cell_type": "markdown",
   "id": "dd3eceda",
   "metadata": {},
   "source": [
    "196 total orders"
   ]
  },
  {
   "cell_type": "markdown",
   "id": "0c8584b6",
   "metadata": {},
   "source": [
    "### <mark>Name_of_employee_with_the_most_orders</mark>\n"
   ]
  },
  {
   "cell_type": "markdown",
   "id": "2a7d5c43",
   "metadata": {},
   "source": [
    "```SQL\n",
    "select \n",
    "\tEmployees.FirstName\n",
    "    ,Employees.LastName\n",
    "    ,count(Orders.OrderID) as order_count\n",
    "from \n",
    "\tOrders \n",
    "    join Employees\n",
    "    \ton orders.EmployeeID = Employees.EmployeeID\n",
    "group by\n",
    "\tEmployees.EmployeeID\n",
    "order by\n",
    "\torder_count desc\n",
    "limit 1\n",
    ";\n",
    "```"
   ]
  },
  {
   "cell_type": "markdown",
   "id": "30078368",
   "metadata": {},
   "source": [
    "|FirstName | LastName | order_count|\n",
    "|:-----    |:-------  |:---------  |\n",
    "| Margaret | Peacock  | 40         |"
   ]
  },
  {
   "cell_type": "markdown",
   "id": "0e5f9461",
   "metadata": {},
   "source": [
    "### <mark>What_product_ordered_most_by_customers_in_Germany</mark>"
   ]
  },
  {
   "cell_type": "markdown",
   "id": "2d9e4984",
   "metadata": {},
   "source": [
    "```SQL\n",
    "select \n",
    "    OrderDetails.ProductID\n",
    "    ,Products.ProductName\n",
    "    ,sum(OrderDetails.Quantity) as total_qty_orders\n",
    "from\n",
    "    OrderDetails\n",
    "    join Products\n",
    "        on OrderDetails.ProductID = OrderDetails.ProductID\n",
    "    join Orders\n",
    "        on Orders.OrderID = OrderDetails.OrderID\n",
    "    join Customers\n",
    "        on Orders.CustomerID = Customers.CustomerID\n",
    "where\n",
    "    Customers.Country = 'Germany'\n",
    "group by\n",
    "    OrderDetails.ProductID\n",
    "order by\n",
    "    total_qty_orders desc\n",
    "limit\n",
    "\t1\n",
    ";\n",
    "```\n",
    "\n",
    "| ProductID | ProductName | total_qty_orders |\n",
    "|  ---      | ---         |                  |\n",
    "| 40\t    | Chais\t      | 12320            |"
   ]
  },
  {
   "cell_type": "markdown",
   "id": "5c48fd45",
   "metadata": {
    "heading_collapsed": true
   },
   "source": [
    "#### Schema (for reference)"
   ]
  },
  {
   "cell_type": "markdown",
   "id": "5a0fc7ae",
   "metadata": {
    "hidden": true
   },
   "source": [
    "| OrderDetails  | Products    | Orders     | Customers    |\n",
    "| :---          | :---        | :---       | :---         |\n",
    "| OrderDetailID\t| ProductID   | OrderID    | CustomerID   |\n",
    "| OrderID       | ProductName | CustomerID | CustomerName |\n",
    "| ProductID     | SupplierID  | EmployeeID | ContactName  |\n",
    "| Quantity      | CategoryID  | OrderDate  | Address      |\n",
    "|               | Unit        | ShipperID  | City         |\n",
    "|               | Price       |            | PostalCode   |\n",
    "|               |             |            | Country      |\n"
   ]
  }
 ],
 "metadata": {
  "kernelspec": {
   "display_name": "Python 3 (ipykernel)",
   "language": "python",
   "name": "python3"
  },
  "language_info": {
   "codemirror_mode": {
    "name": "ipython",
    "version": 3
   },
   "file_extension": ".py",
   "mimetype": "text/x-python",
   "name": "python",
   "nbconvert_exporter": "python",
   "pygments_lexer": "ipython3",
   "version": "3.9.7"
  }
 },
 "nbformat": 4,
 "nbformat_minor": 5
}
